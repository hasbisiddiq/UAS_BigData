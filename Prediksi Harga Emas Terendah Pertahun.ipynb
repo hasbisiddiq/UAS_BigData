{
 "cells": [
  {
   "cell_type": "code",
   "execution_count": 228,
   "id": "2efa4067",
   "metadata": {},
   "outputs": [
    {
     "name": "stdout",
     "output_type": "stream",
     "text": [
      "Requirement already satisfied: openpyxl in c:\\users\\thinkbook\\anaconda3\\lib\\site-packages (3.0.10)\n",
      "Requirement already satisfied: et_xmlfile in c:\\users\\thinkbook\\anaconda3\\lib\\site-packages (from openpyxl) (1.1.0)\n"
     ]
    }
   ],
   "source": [
    "import numpy as np\n",
    "import pandas as pd\n",
    "import matplotlib.pyplot as plt\n",
    "import seaborn as sns\n",
    "from sklearn.model_selection import train_test_split\n",
    "from sklearn.linear_model import LinearRegression\n",
    "from sklearn.metrics import mean_squared_error, r2_score\n",
    "!pip install openpyxl\n",
    "import math"
   ]
  },
  {
   "cell_type": "code",
   "execution_count": 229,
   "id": "2d35a4bf",
   "metadata": {},
   "outputs": [],
   "source": [
    "df = pd.read_csv('Gold_Yearly .csv')"
   ]
  },
  {
   "cell_type": "code",
   "execution_count": 231,
   "id": "93f1a6d0",
   "metadata": {},
   "outputs": [
    {
     "data": {
      "text/html": [
       "<div>\n",
       "<style scoped>\n",
       "    .dataframe tbody tr th:only-of-type {\n",
       "        vertical-align: middle;\n",
       "    }\n",
       "\n",
       "    .dataframe tbody tr th {\n",
       "        vertical-align: top;\n",
       "    }\n",
       "\n",
       "    .dataframe thead th {\n",
       "        text-align: right;\n",
       "    }\n",
       "</style>\n",
       "<table border=\"1\" class=\"dataframe\">\n",
       "  <thead>\n",
       "    <tr style=\"text-align: right;\">\n",
       "      <th></th>\n",
       "      <th>Year</th>\n",
       "      <th>Average\\nClosing Price</th>\n",
       "      <th>Year Open</th>\n",
       "      <th>Year High</th>\n",
       "      <th>Year Low</th>\n",
       "      <th>Year Close</th>\n",
       "      <th>Annual\\n% Change</th>\n",
       "    </tr>\n",
       "  </thead>\n",
       "  <tbody>\n",
       "    <tr>\n",
       "      <th>0</th>\n",
       "      <td>1969</td>\n",
       "      <td>41.10</td>\n",
       "      <td>41.80</td>\n",
       "      <td>43.75</td>\n",
       "      <td>35.00</td>\n",
       "      <td>35.21</td>\n",
       "      <td>-0.1607</td>\n",
       "    </tr>\n",
       "    <tr>\n",
       "      <th>1</th>\n",
       "      <td>1970</td>\n",
       "      <td>35.96</td>\n",
       "      <td>35.13</td>\n",
       "      <td>39.19</td>\n",
       "      <td>34.78</td>\n",
       "      <td>37.38</td>\n",
       "      <td>0.0616</td>\n",
       "    </tr>\n",
       "    <tr>\n",
       "      <th>2</th>\n",
       "      <td>1971</td>\n",
       "      <td>40.80</td>\n",
       "      <td>37.33</td>\n",
       "      <td>43.90</td>\n",
       "      <td>37.33</td>\n",
       "      <td>43.50</td>\n",
       "      <td>0.1637</td>\n",
       "    </tr>\n",
       "    <tr>\n",
       "      <th>3</th>\n",
       "      <td>1972</td>\n",
       "      <td>58.17</td>\n",
       "      <td>43.73</td>\n",
       "      <td>70.00</td>\n",
       "      <td>43.73</td>\n",
       "      <td>64.70</td>\n",
       "      <td>0.4874</td>\n",
       "    </tr>\n",
       "    <tr>\n",
       "      <th>4</th>\n",
       "      <td>1973</td>\n",
       "      <td>97.12</td>\n",
       "      <td>64.99</td>\n",
       "      <td>127.00</td>\n",
       "      <td>64.10</td>\n",
       "      <td>112.25</td>\n",
       "      <td>0.7349</td>\n",
       "    </tr>\n",
       "  </tbody>\n",
       "</table>\n",
       "</div>"
      ],
      "text/plain": [
       "   Year  Average\\nClosing Price  Year Open  Year High  Year Low  Year Close  \\\n",
       "0  1969                   41.10      41.80      43.75     35.00       35.21   \n",
       "1  1970                   35.96      35.13      39.19     34.78       37.38   \n",
       "2  1971                   40.80      37.33      43.90     37.33       43.50   \n",
       "3  1972                   58.17      43.73      70.00     43.73       64.70   \n",
       "4  1973                   97.12      64.99     127.00     64.10      112.25   \n",
       "\n",
       "   Annual\\n% Change  \n",
       "0           -0.1607  \n",
       "1            0.0616  \n",
       "2            0.1637  \n",
       "3            0.4874  \n",
       "4            0.7349  "
      ]
     },
     "execution_count": 231,
     "metadata": {},
     "output_type": "execute_result"
    }
   ],
   "source": [
    "df.head()"
   ]
  },
  {
   "cell_type": "code",
   "execution_count": 232,
   "id": "5a4b86c0",
   "metadata": {},
   "outputs": [
    {
     "name": "stdout",
     "output_type": "stream",
     "text": [
      "<class 'pandas.core.frame.DataFrame'>\n",
      "RangeIndex: 53 entries, 0 to 52\n",
      "Data columns (total 7 columns):\n",
      " #   Column                 Non-Null Count  Dtype  \n",
      "---  ------                 --------------  -----  \n",
      " 0   Year                   53 non-null     int64  \n",
      " 1   Average\n",
      "Closing Price  53 non-null     float64\n",
      " 2   Year Open              53 non-null     float64\n",
      " 3   Year High              53 non-null     float64\n",
      " 4   Year Low               53 non-null     float64\n",
      " 5   Year Close             53 non-null     float64\n",
      " 6   Annual\n",
      "% Change        53 non-null     float64\n",
      "dtypes: float64(6), int64(1)\n",
      "memory usage: 3.0 KB\n"
     ]
    }
   ],
   "source": [
    "df.info()"
   ]
  },
  {
   "cell_type": "code",
   "execution_count": 234,
   "id": "467732a0",
   "metadata": {},
   "outputs": [
    {
     "data": {
      "text/html": [
       "<div>\n",
       "<style scoped>\n",
       "    .dataframe tbody tr th:only-of-type {\n",
       "        vertical-align: middle;\n",
       "    }\n",
       "\n",
       "    .dataframe tbody tr th {\n",
       "        vertical-align: top;\n",
       "    }\n",
       "\n",
       "    .dataframe thead th {\n",
       "        text-align: right;\n",
       "    }\n",
       "</style>\n",
       "<table border=\"1\" class=\"dataframe\">\n",
       "  <thead>\n",
       "    <tr style=\"text-align: right;\">\n",
       "      <th></th>\n",
       "      <th>Year</th>\n",
       "      <th>Average\\nClosing Price</th>\n",
       "      <th>Year Open</th>\n",
       "      <th>Year High</th>\n",
       "      <th>Year Low</th>\n",
       "      <th>Year Close</th>\n",
       "      <th>Annual\\n% Change</th>\n",
       "    </tr>\n",
       "  </thead>\n",
       "  <tbody>\n",
       "    <tr>\n",
       "      <th>0</th>\n",
       "      <td>1969</td>\n",
       "      <td>41.10</td>\n",
       "      <td>41.80</td>\n",
       "      <td>43.75</td>\n",
       "      <td>35.00</td>\n",
       "      <td>35.21</td>\n",
       "      <td>-0.1607</td>\n",
       "    </tr>\n",
       "    <tr>\n",
       "      <th>1</th>\n",
       "      <td>1970</td>\n",
       "      <td>35.96</td>\n",
       "      <td>35.13</td>\n",
       "      <td>39.19</td>\n",
       "      <td>34.78</td>\n",
       "      <td>37.38</td>\n",
       "      <td>0.0616</td>\n",
       "    </tr>\n",
       "    <tr>\n",
       "      <th>2</th>\n",
       "      <td>1971</td>\n",
       "      <td>40.80</td>\n",
       "      <td>37.33</td>\n",
       "      <td>43.90</td>\n",
       "      <td>37.33</td>\n",
       "      <td>43.50</td>\n",
       "      <td>0.1637</td>\n",
       "    </tr>\n",
       "    <tr>\n",
       "      <th>3</th>\n",
       "      <td>1972</td>\n",
       "      <td>58.17</td>\n",
       "      <td>43.73</td>\n",
       "      <td>70.00</td>\n",
       "      <td>43.73</td>\n",
       "      <td>64.70</td>\n",
       "      <td>0.4874</td>\n",
       "    </tr>\n",
       "    <tr>\n",
       "      <th>4</th>\n",
       "      <td>1973</td>\n",
       "      <td>97.12</td>\n",
       "      <td>64.99</td>\n",
       "      <td>127.00</td>\n",
       "      <td>64.10</td>\n",
       "      <td>112.25</td>\n",
       "      <td>0.7349</td>\n",
       "    </tr>\n",
       "  </tbody>\n",
       "</table>\n",
       "</div>"
      ],
      "text/plain": [
       "   Year  Average\\nClosing Price  Year Open  Year High  Year Low  Year Close  \\\n",
       "0  1969                   41.10      41.80      43.75     35.00       35.21   \n",
       "1  1970                   35.96      35.13      39.19     34.78       37.38   \n",
       "2  1971                   40.80      37.33      43.90     37.33       43.50   \n",
       "3  1972                   58.17      43.73      70.00     43.73       64.70   \n",
       "4  1973                   97.12      64.99     127.00     64.10      112.25   \n",
       "\n",
       "   Annual\\n% Change  \n",
       "0           -0.1607  \n",
       "1            0.0616  \n",
       "2            0.1637  \n",
       "3            0.4874  \n",
       "4            0.7349  "
      ]
     },
     "execution_count": 234,
     "metadata": {},
     "output_type": "execute_result"
    }
   ],
   "source": [
    "df.head()"
   ]
  },
  {
   "cell_type": "code",
   "execution_count": 235,
   "id": "8a2e333d",
   "metadata": {},
   "outputs": [
    {
     "name": "stdout",
     "output_type": "stream",
     "text": [
      "<class 'pandas.core.frame.DataFrame'>\n",
      "RangeIndex: 53 entries, 0 to 52\n",
      "Data columns (total 7 columns):\n",
      " #   Column                 Non-Null Count  Dtype  \n",
      "---  ------                 --------------  -----  \n",
      " 0   Year                   53 non-null     int64  \n",
      " 1   Average\n",
      "Closing Price  53 non-null     float64\n",
      " 2   Year Open              53 non-null     float64\n",
      " 3   Year High              53 non-null     float64\n",
      " 4   Year Low               53 non-null     float64\n",
      " 5   Year Close             53 non-null     float64\n",
      " 6   Annual\n",
      "% Change        53 non-null     float64\n",
      "dtypes: float64(6), int64(1)\n",
      "memory usage: 3.0 KB\n"
     ]
    }
   ],
   "source": [
    "df.info()"
   ]
  },
  {
   "cell_type": "code",
   "execution_count": 236,
   "id": "2b569857",
   "metadata": {},
   "outputs": [
    {
     "data": {
      "text/plain": [
       "Year                      0\n",
       "Average\\nClosing Price    0\n",
       "Year Open                 0\n",
       "Year High                 0\n",
       "Year Low                  0\n",
       "Year Close                0\n",
       "Annual\\n% Change          0\n",
       "dtype: int64"
      ]
     },
     "execution_count": 236,
     "metadata": {},
     "output_type": "execute_result"
    }
   ],
   "source": [
    "df.isnull().sum()"
   ]
  },
  {
   "cell_type": "code",
   "execution_count": 237,
   "id": "a7173bd2",
   "metadata": {},
   "outputs": [],
   "source": [
    "df = df.fillna(0)"
   ]
  },
  {
   "cell_type": "markdown",
   "id": "cd48ab1c",
   "metadata": {},
   "source": [
    "## EDA & Korelasi"
   ]
  },
  {
   "cell_type": "code",
   "execution_count": 238,
   "id": "8c3db67c",
   "metadata": {},
   "outputs": [],
   "source": [
    "corr = df.corr()"
   ]
  },
  {
   "cell_type": "code",
   "execution_count": 239,
   "id": "21b89f2a",
   "metadata": {},
   "outputs": [
    {
     "data": {
      "text/plain": [
       "<Axes: >"
      ]
     },
     "execution_count": 239,
     "metadata": {},
     "output_type": "execute_result"
    },
    {
     "data": {
      "image/png": "[encoded data removed]",
      "text/plain": [
       "<Figure size 2000x2000 with 2 Axes>"
      ]
     },
     "metadata": {},
     "output_type": "display_data"
    }
   ],
   "source": [
    "plt.figure(figsize=(20,20))\n",
    "\n",
    "\n",
    "\n",
    "sns.heatmap(corr,annot=True, fmt='.3f')"
   ]
  },
  {
   "cell_type": "markdown",
   "id": "d4d0bb39",
   "metadata": {},
   "source": [
    "## Pemilihan Variabel bebas dan terikat"
   ]
  },
  {
   "cell_type": "code",
   "execution_count": 241,
   "id": "d1e9d56b",
   "metadata": {},
   "outputs": [
    {
     "name": "stdout",
     "output_type": "stream",
     "text": [
      "(53, 3)\n",
      "(53, 1)\n"
     ]
    }
   ],
   "source": [
    "#Korelasi diatas 0,9\n",
    "x = df[['Average\\nClosing Price', 'Year Open','Year Close']]\n",
    "y = df[['Year Low']]\n",
    "print(x.shape)\n",
    "print(y.shape)"
   ]
  },
  {
   "cell_type": "markdown",
   "id": "d6e58a03",
   "metadata": {},
   "source": [
    "### Split model 1"
   ]
  },
  {
   "cell_type": "code",
   "execution_count": 262,
   "id": "499f5fb6",
   "metadata": {},
   "outputs": [
    {
     "name": "stdout",
     "output_type": "stream",
     "text": [
      "(42, 3)\n",
      "(42, 1)\n",
      "(11, 3)\n",
      "(11, 1)\n"
     ]
    }
   ],
   "source": [
    "from sklearn.model_selection import train_test_split\n",
    "#Membagi data menjadi data train dan data test dengan perbandingan  \n",
    "x_train, x_test, y_train, y_test = train_test_split(x, y, test_size=0.2, random_state=10)\n",
    "print(x_train.shape)\n",
    "print(y_train.shape)\n",
    "print(x_test.shape)\n",
    "print(y_test.shape)"
   ]
  },
  {
   "cell_type": "code",
   "execution_count": 263,
   "id": "acbb4fb7",
   "metadata": {},
   "outputs": [],
   "source": [
    "from sklearn.linear_model import LinearRegression"
   ]
  },
  {
   "cell_type": "code",
   "execution_count": 264,
   "id": "c70d7f4a",
   "metadata": {},
   "outputs": [],
   "source": [
    "import numpy as np\n",
    "from sklearn import metrics\n",
    "\n"
   ]
  },
  {
   "cell_type": "code",
   "execution_count": 265,
   "id": "c0405142",
   "metadata": {},
   "outputs": [
    {
     "data": {
      "text/html": [
       "<style>#sk-container-id-21 {color: black;background-color: white;}#sk-container-id-21 pre{padding: 0;}#sk-container-id-21 div.sk-toggleable {background-color: white;}#sk-container-id-21 label.sk-toggleable__label {cursor: pointer;display: block;width: 100%;margin-bottom: 0;padding: 0.3em;box-sizing: border-box;text-align: center;}#sk-container-id-21 label.sk-toggleable__label-arrow:before {content: \"▸\";float: left;margin-right: 0.25em;color: #696969;}#sk-container-id-21 label.sk-toggleable__label-arrow:hover:before {color: black;}#sk-container-id-21 div.sk-estimator:hover label.sk-toggleable__label-arrow:before {color: black;}#sk-container-id-21 div.sk-toggleable__content {max-height: 0;max-width: 0;overflow: hidden;text-align: left;background-color: #f0f8ff;}#sk-container-id-21 div.sk-toggleable__content pre {margin: 0.2em;color: black;border-radius: 0.25em;background-color: #f0f8ff;}#sk-container-id-21 input.sk-toggleable__control:checked~div.sk-toggleable__content {max-height: 200px;max-width: 100%;overflow: auto;}#sk-container-id-21 input.sk-toggleable__control:checked~label.sk-toggleable__label-arrow:before {content: \"▾\";}#sk-container-id-21 div.sk-estimator input.sk-toggleable__control:checked~label.sk-toggleable__label {background-color: #d4ebff;}#sk-container-id-21 div.sk-label input.sk-toggleable__control:checked~label.sk-toggleable__label {background-color: #d4ebff;}#sk-container-id-21 input.sk-hidden--visually {border: 0;clip: rect(1px 1px 1px 1px);clip: rect(1px, 1px, 1px, 1px);height: 1px;margin: -1px;overflow: hidden;padding: 0;position: absolute;width: 1px;}#sk-container-id-21 div.sk-estimator {font-family: monospace;background-color: #f0f8ff;border: 1px dotted black;border-radius: 0.25em;box-sizing: border-box;margin-bottom: 0.5em;}#sk-container-id-21 div.sk-estimator:hover {background-color: #d4ebff;}#sk-container-id-21 div.sk-parallel-item::after {content: \"\";width: 100%;border-bottom: 1px solid gray;flex-grow: 1;}#sk-container-id-21 div.sk-label:hover label.sk-toggleable__label {background-color: #d4ebff;}#sk-container-id-21 div.sk-serial::before {content: \"\";position: absolute;border-left: 1px solid gray;box-sizing: border-box;top: 0;bottom: 0;left: 50%;z-index: 0;}#sk-container-id-21 div.sk-serial {display: flex;flex-direction: column;align-items: center;background-color: white;padding-right: 0.2em;padding-left: 0.2em;position: relative;}#sk-container-id-21 div.sk-item {position: relative;z-index: 1;}#sk-container-id-21 div.sk-parallel {display: flex;align-items: stretch;justify-content: center;background-color: white;position: relative;}#sk-container-id-21 div.sk-item::before, #sk-container-id-21 div.sk-parallel-item::before {content: \"\";position: absolute;border-left: 1px solid gray;box-sizing: border-box;top: 0;bottom: 0;left: 50%;z-index: -1;}#sk-container-id-21 div.sk-parallel-item {display: flex;flex-direction: column;z-index: 1;position: relative;background-color: white;}#sk-container-id-21 div.sk-parallel-item:first-child::after {align-self: flex-end;width: 50%;}#sk-container-id-21 div.sk-parallel-item:last-child::after {align-self: flex-start;width: 50%;}#sk-container-id-21 div.sk-parallel-item:only-child::after {width: 0;}#sk-container-id-21 div.sk-dashed-wrapped {border: 1px dashed gray;margin: 0 0.4em 0.5em 0.4em;box-sizing: border-box;padding-bottom: 0.4em;background-color: white;}#sk-container-id-21 div.sk-label label {font-family: monospace;font-weight: bold;display: inline-block;line-height: 1.2em;}#sk-container-id-21 div.sk-label-container {text-align: center;}#sk-container-id-21 div.sk-container {/* jupyter's `normalize.less` sets `[hidden] { display: none; }` but bootstrap.min.css set `[hidden] { display: none !important; }` so we also need the `!important` here to be able to override the default hidden behavior on the sphinx rendered scikit-learn.org. See: https://github.com/scikit-learn/scikit-learn/issues/21755 */display: inline-block !important;position: relative;}#sk-container-id-21 div.sk-text-repr-fallback {display: none;}</style><div id=\"sk-container-id-21\" class=\"sk-top-container\"><div class=\"sk-text-repr-fallback\"><pre>LinearRegression()</pre><b>In a Jupyter environment, please rerun this cell to show the HTML representation or trust the notebook. <br />On GitHub, the HTML representation is unable to render, please try loading this page with nbviewer.org.</b></div><div class=\"sk-container\" hidden><div class=\"sk-item\"><div class=\"sk-estimator sk-toggleable\"><input class=\"sk-toggleable__control sk-hidden--visually\" id=\"sk-estimator-id-21\" type=\"checkbox\" checked><label for=\"sk-estimator-id-21\" class=\"sk-toggleable__label sk-toggleable__label-arrow\">LinearRegression</label><div class=\"sk-toggleable__content\"><pre>LinearRegression()</pre></div></div></div></div></div>"
      ],
      "text/plain": [
       "LinearRegression()"
      ]
     },
     "execution_count": 265,
     "metadata": {},
     "output_type": "execute_result"
    }
   ],
   "source": [
    "model1 = LinearRegression()\n",
    "model1.fit(x_train, y_train)"
   ]
  },
  {
   "cell_type": "code",
   "execution_count": 266,
   "id": "03cc55f6",
   "metadata": {},
   "outputs": [
    {
     "name": "stdout",
     "output_type": "stream",
     "text": [
      "Intercept/bias [-7.03039892]\n",
      "Koefisien [[0.64433966 0.18711634 0.06188974]]\n"
     ]
    }
   ],
   "source": [
    "print('Intercept/bias', model1.intercept_)\n",
    "print('Koefisien', model1.coef_)"
   ]
  },
  {
   "cell_type": "markdown",
   "id": "5dfed2b4",
   "metadata": {},
   "source": [
    "## Rumus model1\n",
    "### y = ax1 + ax2 + ax3 + b\n",
    "### y = 0.64433966 * Average\\nClosing Price + 0.18711634 * Year Open + 0.06188974 * Year Close + b\n",
    "\n",
    "### a = koefisien \n",
    "### b = bias\n",
    "### x = variabel independen"
   ]
  },
  {
   "cell_type": "code",
   "execution_count": 267,
   "id": "c47a28c3",
   "metadata": {},
   "outputs": [],
   "source": [
    "import numpy as np "
   ]
  },
  {
   "cell_type": "code",
   "execution_count": 268,
   "id": "5382cad0",
   "metadata": {},
   "outputs": [
    {
     "name": "stdout",
     "output_type": "stream",
     "text": [
      "[[ 340.84608685]\n",
      " [  42.63770269]\n",
      " [1111.19869621]\n",
      " [ 315.61391746]\n",
      " [ 242.57762577]\n",
      " [ 361.64443201]\n",
      " [ 765.92487724]\n",
      " [ 335.74006841]\n",
      " [ 339.57622474]\n",
      " [ 613.37263141]\n",
      " [ 300.85703272]]\n"
     ]
    }
   ],
   "source": [
    "pred = model1.predict(x_test)\n",
    "print(pred)"
   ]
  },
  {
   "cell_type": "markdown",
   "id": "735a0e72",
   "metadata": {},
   "source": [
    "### Evaluasi 1"
   ]
  },
  {
   "cell_type": "code",
   "execution_count": 269,
   "id": "af22daf8",
   "metadata": {},
   "outputs": [],
   "source": [
    "rmse = np.sqrt(mean_squared_error(np.array(y_test),pred))"
   ]
  },
  {
   "cell_type": "code",
   "execution_count": 270,
   "id": "2fb280b0",
   "metadata": {},
   "outputs": [
    {
     "data": {
      "text/plain": [
       "29.823294559828135"
      ]
     },
     "execution_count": 270,
     "metadata": {},
     "output_type": "execute_result"
    }
   ],
   "source": [
    "rmse"
   ]
  },
  {
   "cell_type": "code",
   "execution_count": 271,
   "id": "f4e80142",
   "metadata": {},
   "outputs": [
    {
     "data": {
      "text/plain": [
       "0.9881536194816646"
      ]
     },
     "execution_count": 271,
     "metadata": {},
     "output_type": "execute_result"
    }
   ],
   "source": [
    "accuracy = r2_score(y_test, pred)\n",
    "accuracy"
   ]
  },
  {
   "cell_type": "markdown",
   "id": "319b202d",
   "metadata": {},
   "source": [
    "### Split model 2 "
   ]
  },
  {
   "cell_type": "code",
   "execution_count": 282,
   "id": "96055757",
   "metadata": {},
   "outputs": [
    {
     "name": "stdout",
     "output_type": "stream",
     "text": [
      "(47, 3)\n",
      "(47, 1)\n",
      "(6, 3)\n",
      "(6, 1)\n"
     ]
    }
   ],
   "source": [
    "from sklearn.model_selection import train_test_split\n",
    "#Membagi data menjadi data train dan data test dengan perbandingan 90 : 10\n",
    "x_train, x_test, y_train, y_test = train_test_split(x, y, test_size=0.1, random_state=10)\n",
    "print(x_train.shape)\n",
    "print(y_train.shape)\n",
    "print(x_test.shape)\n",
    "print(y_test.shape)"
   ]
  },
  {
   "cell_type": "code",
   "execution_count": 273,
   "id": "be3beba3",
   "metadata": {},
   "outputs": [],
   "source": [
    "from sklearn.linear_model import LinearRegression"
   ]
  },
  {
   "cell_type": "code",
   "execution_count": 274,
   "id": "d7114f5f",
   "metadata": {},
   "outputs": [],
   "source": [
    "import numpy as np\n",
    "from sklearn import metrics"
   ]
  },
  {
   "cell_type": "code",
   "execution_count": 275,
   "id": "c9428182",
   "metadata": {},
   "outputs": [
    {
     "data": {
      "text/html": [
       "<style>#sk-container-id-22 {color: black;background-color: white;}#sk-container-id-22 pre{padding: 0;}#sk-container-id-22 div.sk-toggleable {background-color: white;}#sk-container-id-22 label.sk-toggleable__label {cursor: pointer;display: block;width: 100%;margin-bottom: 0;padding: 0.3em;box-sizing: border-box;text-align: center;}#sk-container-id-22 label.sk-toggleable__label-arrow:before {content: \"▸\";float: left;margin-right: 0.25em;color: #696969;}#sk-container-id-22 label.sk-toggleable__label-arrow:hover:before {color: black;}#sk-container-id-22 div.sk-estimator:hover label.sk-toggleable__label-arrow:before {color: black;}#sk-container-id-22 div.sk-toggleable__content {max-height: 0;max-width: 0;overflow: hidden;text-align: left;background-color: #f0f8ff;}#sk-container-id-22 div.sk-toggleable__content pre {margin: 0.2em;color: black;border-radius: 0.25em;background-color: #f0f8ff;}#sk-container-id-22 input.sk-toggleable__control:checked~div.sk-toggleable__content {max-height: 200px;max-width: 100%;overflow: auto;}#sk-container-id-22 input.sk-toggleable__control:checked~label.sk-toggleable__label-arrow:before {content: \"▾\";}#sk-container-id-22 div.sk-estimator input.sk-toggleable__control:checked~label.sk-toggleable__label {background-color: #d4ebff;}#sk-container-id-22 div.sk-label input.sk-toggleable__control:checked~label.sk-toggleable__label {background-color: #d4ebff;}#sk-container-id-22 input.sk-hidden--visually {border: 0;clip: rect(1px 1px 1px 1px);clip: rect(1px, 1px, 1px, 1px);height: 1px;margin: -1px;overflow: hidden;padding: 0;position: absolute;width: 1px;}#sk-container-id-22 div.sk-estimator {font-family: monospace;background-color: #f0f8ff;border: 1px dotted black;border-radius: 0.25em;box-sizing: border-box;margin-bottom: 0.5em;}#sk-container-id-22 div.sk-estimator:hover {background-color: #d4ebff;}#sk-container-id-22 div.sk-parallel-item::after {content: \"\";width: 100%;border-bottom: 1px solid gray;flex-grow: 1;}#sk-container-id-22 div.sk-label:hover label.sk-toggleable__label {background-color: #d4ebff;}#sk-container-id-22 div.sk-serial::before {content: \"\";position: absolute;border-left: 1px solid gray;box-sizing: border-box;top: 0;bottom: 0;left: 50%;z-index: 0;}#sk-container-id-22 div.sk-serial {display: flex;flex-direction: column;align-items: center;background-color: white;padding-right: 0.2em;padding-left: 0.2em;position: relative;}#sk-container-id-22 div.sk-item {position: relative;z-index: 1;}#sk-container-id-22 div.sk-parallel {display: flex;align-items: stretch;justify-content: center;background-color: white;position: relative;}#sk-container-id-22 div.sk-item::before, #sk-container-id-22 div.sk-parallel-item::before {content: \"\";position: absolute;border-left: 1px solid gray;box-sizing: border-box;top: 0;bottom: 0;left: 50%;z-index: -1;}#sk-container-id-22 div.sk-parallel-item {display: flex;flex-direction: column;z-index: 1;position: relative;background-color: white;}#sk-container-id-22 div.sk-parallel-item:first-child::after {align-self: flex-end;width: 50%;}#sk-container-id-22 div.sk-parallel-item:last-child::after {align-self: flex-start;width: 50%;}#sk-container-id-22 div.sk-parallel-item:only-child::after {width: 0;}#sk-container-id-22 div.sk-dashed-wrapped {border: 1px dashed gray;margin: 0 0.4em 0.5em 0.4em;box-sizing: border-box;padding-bottom: 0.4em;background-color: white;}#sk-container-id-22 div.sk-label label {font-family: monospace;font-weight: bold;display: inline-block;line-height: 1.2em;}#sk-container-id-22 div.sk-label-container {text-align: center;}#sk-container-id-22 div.sk-container {/* jupyter's `normalize.less` sets `[hidden] { display: none; }` but bootstrap.min.css set `[hidden] { display: none !important; }` so we also need the `!important` here to be able to override the default hidden behavior on the sphinx rendered scikit-learn.org. See: https://github.com/scikit-learn/scikit-learn/issues/21755 */display: inline-block !important;position: relative;}#sk-container-id-22 div.sk-text-repr-fallback {display: none;}</style><div id=\"sk-container-id-22\" class=\"sk-top-container\"><div class=\"sk-text-repr-fallback\"><pre>LinearRegression()</pre><b>In a Jupyter environment, please rerun this cell to show the HTML representation or trust the notebook. <br />On GitHub, the HTML representation is unable to render, please try loading this page with nbviewer.org.</b></div><div class=\"sk-container\" hidden><div class=\"sk-item\"><div class=\"sk-estimator sk-toggleable\"><input class=\"sk-toggleable__control sk-hidden--visually\" id=\"sk-estimator-id-22\" type=\"checkbox\" checked><label for=\"sk-estimator-id-22\" class=\"sk-toggleable__label sk-toggleable__label-arrow\">LinearRegression</label><div class=\"sk-toggleable__content\"><pre>LinearRegression()</pre></div></div></div></div></div>"
      ],
      "text/plain": [
       "LinearRegression()"
      ]
     },
     "execution_count": 275,
     "metadata": {},
     "output_type": "execute_result"
    }
   ],
   "source": [
    "model2 = LinearRegression()\n",
    "model2.fit(x_train, y_train)"
   ]
  },
  {
   "cell_type": "code",
   "execution_count": 276,
   "id": "7718252f",
   "metadata": {},
   "outputs": [
    {
     "name": "stdout",
     "output_type": "stream",
     "text": [
      "Intercept/bias [-5.31524549]\n",
      "Koefisien [[0.63185699 0.19333159 0.06524284]]\n"
     ]
    }
   ],
   "source": [
    "print('Intercept/bias', model2.intercept_)\n",
    "print('Koefisien', model2.coef_)"
   ]
  },
  {
   "cell_type": "markdown",
   "id": "b8d877c3",
   "metadata": {},
   "source": [
    "## Rumus model1\n",
    "### y = ax1 + ax2 + ax3 + b\n",
    "### y = 0.63185699 * Average\\nClosing Price + 0.19333159 * Year Open + 0.06524284 * Year Close + b\n",
    "\n",
    "### a = koefisien \n",
    "### b = bias\n",
    "### x = variabel independen"
   ]
  },
  {
   "cell_type": "code",
   "execution_count": 277,
   "id": "8eaa684c",
   "metadata": {},
   "outputs": [],
   "source": [
    "import numpy as np "
   ]
  },
  {
   "cell_type": "code",
   "execution_count": 278,
   "id": "e629ae09",
   "metadata": {},
   "outputs": [
    {
     "name": "stdout",
     "output_type": "stream",
     "text": [
      "[[ 341.71719464]\n",
      " [  44.11547789]\n",
      " [1108.7123011 ]\n",
      " [ 316.07668826]\n",
      " [ 243.47372925]\n",
      " [ 362.29678878]]\n"
     ]
    }
   ],
   "source": [
    "pred2 = model2.predict(x_test)\n",
    "print(pred2)"
   ]
  },
  {
   "cell_type": "markdown",
   "id": "87b06447",
   "metadata": {},
   "source": [
    "### Evaluasi 2"
   ]
  },
  {
   "cell_type": "code",
   "execution_count": 279,
   "id": "c9bffe07",
   "metadata": {},
   "outputs": [],
   "source": [
    "rmse2 = np.sqrt(mean_squared_error(np.array(y_test),pred2))"
   ]
  },
  {
   "cell_type": "code",
   "execution_count": 280,
   "id": "a00e3d68",
   "metadata": {},
   "outputs": [
    {
     "data": {
      "text/plain": [
       "19.089463224163843"
      ]
     },
     "execution_count": 280,
     "metadata": {},
     "output_type": "execute_result"
    }
   ],
   "source": [
    "rmse2"
   ]
  },
  {
   "cell_type": "code",
   "execution_count": 281,
   "id": "a967441f",
   "metadata": {},
   "outputs": [
    {
     "data": {
      "text/plain": [
       "0.9969016899170703"
      ]
     },
     "execution_count": 281,
     "metadata": {},
     "output_type": "execute_result"
    }
   ],
   "source": [
    "accuracy = r2_score(y_test, pred2)\n",
    "accuracy"
   ]
  },
  {
   "cell_type": "code",
   "execution_count": null,
   "id": "3a52f3d5",
   "metadata": {},
   "outputs": [],
   "source": []
  }
 ],
 "metadata": {
  "kernelspec": {
   "display_name": "Python 3 (ipykernel)",
   "language": "python",
   "name": "python3"
  },
  "language_info": {
   "codemirror_mode": {
    "name": "ipython",
    "version": 3
   },
   "file_extension": ".py",
   "mimetype": "text/x-python",
   "name": "python",
   "nbconvert_exporter": "python",
   "pygments_lexer": "ipython3",
   "version": "3.10.9"
  }
 },
 "nbformat": 4,
 "nbformat_minor": 5
}
