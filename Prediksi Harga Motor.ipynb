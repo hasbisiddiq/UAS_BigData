{
 "cells": [
  {
   "cell_type": "code",
   "execution_count": 6,
   "id": "878b6dc1",
   "metadata": {},
   "outputs": [
    {
     "name": "stdout",
     "output_type": "stream",
     "text": [
      "Requirement already satisfied: openpyxl in c:\\users\\thinkbook\\anaconda3\\lib\\site-packages (3.0.10)\n",
      "Requirement already satisfied: et_xmlfile in c:\\users\\thinkbook\\anaconda3\\lib\\site-packages (from openpyxl) (1.1.0)\n"
     ]
    }
   ],
   "source": [
    "import numpy as np\n",
    "import pandas as pd\n",
    "import matplotlib.pyplot as plt\n",
    "import seaborn as sns\n",
    "from sklearn.model_selection import train_test_split\n",
    "from sklearn.linear_model import LinearRegression\n",
    "from sklearn.metrics import mean_squared_error, r2_score\n",
    "!pip install openpyxl\n",
    "import math"
   ]
  },
  {
   "cell_type": "code",
   "execution_count": 91,
   "id": "fda3f757",
   "metadata": {},
   "outputs": [],
   "source": [
    "df = pd.read_csv('bikes_data.csv')"
   ]
  },
  {
   "cell_type": "code",
   "execution_count": 92,
   "id": "49d2a981",
   "metadata": {},
   "outputs": [
    {
     "data": {
      "text/html": [
       "<div>\n",
       "<style scoped>\n",
       "    .dataframe tbody tr th:only-of-type {\n",
       "        vertical-align: middle;\n",
       "    }\n",
       "\n",
       "    .dataframe tbody tr th {\n",
       "        vertical-align: top;\n",
       "    }\n",
       "\n",
       "    .dataframe thead th {\n",
       "        text-align: right;\n",
       "    }\n",
       "</style>\n",
       "<table border=\"1\" class=\"dataframe\">\n",
       "  <thead>\n",
       "    <tr style=\"text-align: right;\">\n",
       "      <th></th>\n",
       "      <th>Company</th>\n",
       "      <th>Country of Origin</th>\n",
       "      <th>Model</th>\n",
       "      <th>Number of cc</th>\n",
       "      <th>Horsepower</th>\n",
       "      <th>Torque</th>\n",
       "      <th>Transmission Type</th>\n",
       "      <th>Drivetrain</th>\n",
       "      <th>Number of Seating</th>\n",
       "      <th>Price (in INR)</th>\n",
       "      <th>Year</th>\n",
       "      <th>Looks</th>\n",
       "      <th>Body Type</th>\n",
       "      <th>Engine Type</th>\n",
       "      <th>Number of Cylinders</th>\n",
       "    </tr>\n",
       "  </thead>\n",
       "  <tbody>\n",
       "    <tr>\n",
       "      <th>0</th>\n",
       "      <td>Aprilia</td>\n",
       "      <td>Italy</td>\n",
       "      <td>RS 660</td>\n",
       "      <td>659</td>\n",
       "      <td>100 hp</td>\n",
       "      <td>67 Nm</td>\n",
       "      <td>6-speed quickshifter</td>\n",
       "      <td>Chain</td>\n",
       "      <td>2</td>\n",
       "      <td>INR 10,99,000</td>\n",
       "      <td>2021</td>\n",
       "      <td>Sport</td>\n",
       "      <td>Naked</td>\n",
       "      <td>Parallel-twin</td>\n",
       "      <td>2</td>\n",
       "    </tr>\n",
       "    <tr>\n",
       "      <th>1</th>\n",
       "      <td>Aprilia</td>\n",
       "      <td>Italy</td>\n",
       "      <td>Tuono 660</td>\n",
       "      <td>659</td>\n",
       "      <td>100 hp</td>\n",
       "      <td>67 Nm</td>\n",
       "      <td>6-speed quickshifter</td>\n",
       "      <td>Chain</td>\n",
       "      <td>2</td>\n",
       "      <td>INR 11,99,000</td>\n",
       "      <td>2021</td>\n",
       "      <td>Sport</td>\n",
       "      <td>Naked</td>\n",
       "      <td>Parallel-twin</td>\n",
       "      <td>2</td>\n",
       "    </tr>\n",
       "    <tr>\n",
       "      <th>2</th>\n",
       "      <td>Aprilia</td>\n",
       "      <td>Italy</td>\n",
       "      <td>RS 125</td>\n",
       "      <td>124.9</td>\n",
       "      <td>15 hp</td>\n",
       "      <td>12 Nm</td>\n",
       "      <td>6-speed manual</td>\n",
       "      <td>Chain</td>\n",
       "      <td>2</td>\n",
       "      <td>INR 4,49,000</td>\n",
       "      <td>2022</td>\n",
       "      <td>Sport</td>\n",
       "      <td>Racing</td>\n",
       "      <td>Single-cylinder</td>\n",
       "      <td>1</td>\n",
       "    </tr>\n",
       "    <tr>\n",
       "      <th>3</th>\n",
       "      <td>Aprilia</td>\n",
       "      <td>Italy</td>\n",
       "      <td>Shiver 900</td>\n",
       "      <td>896</td>\n",
       "      <td>95 hp</td>\n",
       "      <td>90 Nm</td>\n",
       "      <td>6-speed manual</td>\n",
       "      <td>Shaft</td>\n",
       "      <td>2</td>\n",
       "      <td>INR 13,99,000</td>\n",
       "      <td>2022</td>\n",
       "      <td>Adventure</td>\n",
       "      <td>Naked</td>\n",
       "      <td>V-twin</td>\n",
       "      <td>2</td>\n",
       "    </tr>\n",
       "    <tr>\n",
       "      <th>4</th>\n",
       "      <td>Aprilia</td>\n",
       "      <td>Italy</td>\n",
       "      <td>Tuono 1100</td>\n",
       "      <td>1077</td>\n",
       "      <td>175 hp</td>\n",
       "      <td>121 Nm</td>\n",
       "      <td>6-speed manual</td>\n",
       "      <td>Shaft</td>\n",
       "      <td>2</td>\n",
       "      <td>INR 19,99,000</td>\n",
       "      <td>2022</td>\n",
       "      <td>Adventure</td>\n",
       "      <td>Naked</td>\n",
       "      <td>V-twin</td>\n",
       "      <td>2</td>\n",
       "    </tr>\n",
       "  </tbody>\n",
       "</table>\n",
       "</div>"
      ],
      "text/plain": [
       "   Company Country of Origin       Model Number of cc Horsepower  Torque  \\\n",
       "0  Aprilia             Italy      RS 660          659     100 hp   67 Nm   \n",
       "1  Aprilia             Italy   Tuono 660          659     100 hp   67 Nm   \n",
       "2  Aprilia             Italy      RS 125        124.9      15 hp   12 Nm   \n",
       "3  Aprilia             Italy  Shiver 900          896      95 hp   90 Nm   \n",
       "4  Aprilia             Italy  Tuono 1100         1077     175 hp  121 Nm   \n",
       "\n",
       "      Transmission Type Drivetrain  Number of Seating Price (in INR)  Year  \\\n",
       "0  6-speed quickshifter      Chain                  2  INR 10,99,000  2021   \n",
       "1  6-speed quickshifter      Chain                  2  INR 11,99,000  2021   \n",
       "2        6-speed manual      Chain                  2   INR 4,49,000  2022   \n",
       "3        6-speed manual      Shaft                  2  INR 13,99,000  2022   \n",
       "4        6-speed manual      Shaft                  2  INR 19,99,000  2022   \n",
       "\n",
       "       Looks Body Type      Engine Type Number of Cylinders  \n",
       "0      Sport     Naked    Parallel-twin                   2  \n",
       "1      Sport     Naked    Parallel-twin                   2  \n",
       "2      Sport    Racing  Single-cylinder                   1  \n",
       "3  Adventure     Naked           V-twin                   2  \n",
       "4  Adventure     Naked           V-twin                   2  "
      ]
     },
     "execution_count": 92,
     "metadata": {},
     "output_type": "execute_result"
    }
   ],
   "source": [
    "# melihat data 5 paling atas\n",
    "df.head()"
   ]
  },
  {
   "cell_type": "code",
   "execution_count": 84,
   "id": "fa6c4f7d",
   "metadata": {},
   "outputs": [],
   "source": [
    "df = df.drop(['Company', 'Country of Origin', 'Model', 'Transmission Type', 'Drivetrain', 'Year', 'Looks', 'Body Type', 'Engine Type'], axis='columns')"
   ]
  },
  {
   "cell_type": "code",
   "execution_count": 94,
   "id": "151cdea3",
   "metadata": {},
   "outputs": [
    {
     "data": {
      "text/plain": [
       "Company                362\n",
       "Country of Origin      362\n",
       "Model                  362\n",
       "Number of cc           362\n",
       "Horsepower             362\n",
       "Torque                 362\n",
       "Transmission Type      362\n",
       "Drivetrain             362\n",
       "Number of Seating      362\n",
       "Price (in INR)         362\n",
       "Year                   362\n",
       "Looks                  362\n",
       "Body Type              362\n",
       "Engine Type            362\n",
       "Number of Cylinders    362\n",
       "dtype: int64"
      ]
     },
     "execution_count": 94,
     "metadata": {},
     "output_type": "execute_result"
    }
   ],
   "source": [
    "df.isna().count()"
   ]
  },
  {
   "cell_type": "code",
   "execution_count": 85,
   "id": "704315a0",
   "metadata": {},
   "outputs": [
    {
     "data": {
      "text/html": [
       "<div>\n",
       "<style scoped>\n",
       "    .dataframe tbody tr th:only-of-type {\n",
       "        vertical-align: middle;\n",
       "    }\n",
       "\n",
       "    .dataframe tbody tr th {\n",
       "        vertical-align: top;\n",
       "    }\n",
       "\n",
       "    .dataframe thead th {\n",
       "        text-align: right;\n",
       "    }\n",
       "</style>\n",
       "<table border=\"1\" class=\"dataframe\">\n",
       "  <thead>\n",
       "    <tr style=\"text-align: right;\">\n",
       "      <th></th>\n",
       "      <th>Number of cc</th>\n",
       "      <th>Horsepower</th>\n",
       "      <th>Torque</th>\n",
       "      <th>Number of Seating</th>\n",
       "      <th>Price (in INR)</th>\n",
       "      <th>Number of Cylinders</th>\n",
       "    </tr>\n",
       "  </thead>\n",
       "  <tbody>\n",
       "    <tr>\n",
       "      <th>0</th>\n",
       "      <td>659</td>\n",
       "      <td>100 hp</td>\n",
       "      <td>67 Nm</td>\n",
       "      <td>2</td>\n",
       "      <td>INR 10,99,000</td>\n",
       "      <td>2</td>\n",
       "    </tr>\n",
       "    <tr>\n",
       "      <th>1</th>\n",
       "      <td>659</td>\n",
       "      <td>100 hp</td>\n",
       "      <td>67 Nm</td>\n",
       "      <td>2</td>\n",
       "      <td>INR 11,99,000</td>\n",
       "      <td>2</td>\n",
       "    </tr>\n",
       "    <tr>\n",
       "      <th>2</th>\n",
       "      <td>124.9</td>\n",
       "      <td>15 hp</td>\n",
       "      <td>12 Nm</td>\n",
       "      <td>2</td>\n",
       "      <td>INR 4,49,000</td>\n",
       "      <td>1</td>\n",
       "    </tr>\n",
       "    <tr>\n",
       "      <th>3</th>\n",
       "      <td>896</td>\n",
       "      <td>95 hp</td>\n",
       "      <td>90 Nm</td>\n",
       "      <td>2</td>\n",
       "      <td>INR 13,99,000</td>\n",
       "      <td>2</td>\n",
       "    </tr>\n",
       "    <tr>\n",
       "      <th>4</th>\n",
       "      <td>1077</td>\n",
       "      <td>175 hp</td>\n",
       "      <td>121 Nm</td>\n",
       "      <td>2</td>\n",
       "      <td>INR 19,99,000</td>\n",
       "      <td>2</td>\n",
       "    </tr>\n",
       "  </tbody>\n",
       "</table>\n",
       "</div>"
      ],
      "text/plain": [
       "  Number of cc Horsepower  Torque  Number of Seating Price (in INR)  \\\n",
       "0          659     100 hp   67 Nm                  2  INR 10,99,000   \n",
       "1          659     100 hp   67 Nm                  2  INR 11,99,000   \n",
       "2        124.9      15 hp   12 Nm                  2   INR 4,49,000   \n",
       "3          896      95 hp   90 Nm                  2  INR 13,99,000   \n",
       "4         1077     175 hp  121 Nm                  2  INR 19,99,000   \n",
       "\n",
       "  Number of Cylinders  \n",
       "0                   2  \n",
       "1                   2  \n",
       "2                   1  \n",
       "3                   2  \n",
       "4                   2  "
      ]
     },
     "execution_count": 85,
     "metadata": {},
     "output_type": "execute_result"
    }
   ],
   "source": [
    "df.head()\n"
   ]
  },
  {
   "cell_type": "code",
   "execution_count": 86,
   "id": "3e402d58",
   "metadata": {},
   "outputs": [
    {
     "name": "stdout",
     "output_type": "stream",
     "text": [
      "<class 'pandas.core.frame.DataFrame'>\n",
      "RangeIndex: 362 entries, 0 to 361\n",
      "Data columns (total 6 columns):\n",
      " #   Column               Non-Null Count  Dtype \n",
      "---  ------               --------------  ----- \n",
      " 0   Number of cc         362 non-null    object\n",
      " 1   Horsepower           362 non-null    object\n",
      " 2   Torque               362 non-null    object\n",
      " 3   Number of Seating    362 non-null    int64 \n",
      " 4   Price (in INR)       362 non-null    object\n",
      " 5   Number of Cylinders  361 non-null    object\n",
      "dtypes: int64(1), object(5)\n",
      "memory usage: 17.1+ KB\n"
     ]
    }
   ],
   "source": [
    "df.info()"
   ]
  },
  {
   "cell_type": "code",
   "execution_count": 89,
   "id": "ed9e7aad",
   "metadata": {
    "scrolled": true
   },
   "outputs": [],
   "source": [
    "a = df['Price (in INR)'].replace(to_replace='INR', value='').replace(to_replace=',', value='.')"
   ]
  },
  {
   "cell_type": "code",
   "execution_count": 90,
   "id": "eac94fce",
   "metadata": {},
   "outputs": [
    {
     "data": {
      "text/plain": [
       "0    INR 10,99,000\n",
       "1    INR 11,99,000\n",
       "2     INR 4,49,000\n",
       "3    INR 13,99,000\n",
       "4    INR 19,99,000\n",
       "Name: Price (in INR), dtype: object"
      ]
     },
     "execution_count": 90,
     "metadata": {},
     "output_type": "execute_result"
    }
   ],
   "source": [
    "a.head()"
   ]
  },
  {
   "cell_type": "code",
   "execution_count": 79,
   "id": "a03b9aff",
   "metadata": {},
   "outputs": [
    {
     "data": {
      "text/html": [
       "<div>\n",
       "<style scoped>\n",
       "    .dataframe tbody tr th:only-of-type {\n",
       "        vertical-align: middle;\n",
       "    }\n",
       "\n",
       "    .dataframe tbody tr th {\n",
       "        vertical-align: top;\n",
       "    }\n",
       "\n",
       "    .dataframe thead th {\n",
       "        text-align: right;\n",
       "    }\n",
       "</style>\n",
       "<table border=\"1\" class=\"dataframe\">\n",
       "  <thead>\n",
       "    <tr style=\"text-align: right;\">\n",
       "      <th></th>\n",
       "      <th>Number of cc</th>\n",
       "      <th>Horsepower</th>\n",
       "      <th>Torque</th>\n",
       "      <th>Number of Seating</th>\n",
       "      <th>Price (in INR)</th>\n",
       "      <th>Number of Cylinders</th>\n",
       "    </tr>\n",
       "  </thead>\n",
       "  <tbody>\n",
       "    <tr>\n",
       "      <th>0</th>\n",
       "      <td>659</td>\n",
       "      <td>100 hp</td>\n",
       "      <td>67 Nm</td>\n",
       "      <td>2</td>\n",
       "      <td>INR 10,99,000</td>\n",
       "      <td>2</td>\n",
       "    </tr>\n",
       "    <tr>\n",
       "      <th>1</th>\n",
       "      <td>659</td>\n",
       "      <td>100 hp</td>\n",
       "      <td>67 Nm</td>\n",
       "      <td>2</td>\n",
       "      <td>INR 11,99,000</td>\n",
       "      <td>2</td>\n",
       "    </tr>\n",
       "    <tr>\n",
       "      <th>2</th>\n",
       "      <td>124.9</td>\n",
       "      <td>15 hp</td>\n",
       "      <td>12 Nm</td>\n",
       "      <td>2</td>\n",
       "      <td>INR 4,49,000</td>\n",
       "      <td>1</td>\n",
       "    </tr>\n",
       "    <tr>\n",
       "      <th>3</th>\n",
       "      <td>896</td>\n",
       "      <td>95 hp</td>\n",
       "      <td>90 Nm</td>\n",
       "      <td>2</td>\n",
       "      <td>INR 13,99,000</td>\n",
       "      <td>2</td>\n",
       "    </tr>\n",
       "    <tr>\n",
       "      <th>4</th>\n",
       "      <td>1077</td>\n",
       "      <td>175 hp</td>\n",
       "      <td>121 Nm</td>\n",
       "      <td>2</td>\n",
       "      <td>INR 19,99,000</td>\n",
       "      <td>2</td>\n",
       "    </tr>\n",
       "  </tbody>\n",
       "</table>\n",
       "</div>"
      ],
      "text/plain": [
       "  Number of cc Horsepower  Torque  Number of Seating Price (in INR)  \\\n",
       "0          659     100 hp   67 Nm                  2  INR 10,99,000   \n",
       "1          659     100 hp   67 Nm                  2  INR 11,99,000   \n",
       "2        124.9      15 hp   12 Nm                  2   INR 4,49,000   \n",
       "3          896      95 hp   90 Nm                  2  INR 13,99,000   \n",
       "4         1077     175 hp  121 Nm                  2  INR 19,99,000   \n",
       "\n",
       "  Number of Cylinders  \n",
       "0                   2  \n",
       "1                   2  \n",
       "2                   1  \n",
       "3                   2  \n",
       "4                   2  "
      ]
     },
     "execution_count": 79,
     "metadata": {},
     "output_type": "execute_result"
    }
   ],
   "source": [
    "df.head()"
   ]
  },
  {
   "cell_type": "markdown",
   "id": "74cf11bf",
   "metadata": {},
   "source": [
    "## EDA"
   ]
  },
  {
   "cell_type": "code",
   "execution_count": 23,
   "id": "4cde91a6",
   "metadata": {},
   "outputs": [
    {
     "data": {
      "text/plain": [
       "Company                0\n",
       "Country of Origin      0\n",
       "Model                  0\n",
       "Number of cc           0\n",
       "Horsepower             0\n",
       "Torque                 1\n",
       "Transmission Type      0\n",
       "Drivetrain             0\n",
       "Number of Seating      0\n",
       "Price (in INR)         0\n",
       "Year                   0\n",
       "Looks                  0\n",
       "Body Type              0\n",
       "Engine Type            0\n",
       "Number of Cylinders    1\n",
       "dtype: int64"
      ]
     },
     "execution_count": 23,
     "metadata": {},
     "output_type": "execute_result"
    }
   ],
   "source": [
    "#Cek Missing Value\n",
    "df.isnull().sum()"
   ]
  },
  {
   "cell_type": "code",
   "execution_count": 27,
   "id": "de19316d",
   "metadata": {},
   "outputs": [],
   "source": [
    "#Menghapus Missing Value\n",
    "df.dropna(axis=0,inplace=True)"
   ]
  },
  {
   "cell_type": "code",
   "execution_count": 28,
   "id": "10234e0c",
   "metadata": {},
   "outputs": [
    {
     "data": {
      "text/plain": [
       "Company                0\n",
       "Country of Origin      0\n",
       "Model                  0\n",
       "Number of cc           0\n",
       "Horsepower             0\n",
       "Torque                 0\n",
       "Transmission Type      0\n",
       "Drivetrain             0\n",
       "Number of Seating      0\n",
       "Price (in INR)         0\n",
       "Year                   0\n",
       "Looks                  0\n",
       "Body Type              0\n",
       "Engine Type            0\n",
       "Number of Cylinders    0\n",
       "dtype: int64"
      ]
     },
     "execution_count": 28,
     "metadata": {},
     "output_type": "execute_result"
    }
   ],
   "source": [
    "#setelah itu kita melihat kembali apakah missing value sudah terhapus\n",
    "df.isnull().sum()"
   ]
  },
  {
   "cell_type": "code",
   "execution_count": 29,
   "id": "1626bc6b",
   "metadata": {},
   "outputs": [
    {
     "data": {
      "text/plain": [
       "(360, 15)"
      ]
     },
     "execution_count": 29,
     "metadata": {},
     "output_type": "execute_result"
    }
   ],
   "source": [
    "df.shape"
   ]
  },
  {
   "cell_type": "code",
   "execution_count": 30,
   "id": "1b50da09",
   "metadata": {},
   "outputs": [
    {
     "data": {
      "text/html": [
       "<div>\n",
       "<style scoped>\n",
       "    .dataframe tbody tr th:only-of-type {\n",
       "        vertical-align: middle;\n",
       "    }\n",
       "\n",
       "    .dataframe tbody tr th {\n",
       "        vertical-align: top;\n",
       "    }\n",
       "\n",
       "    .dataframe thead th {\n",
       "        text-align: right;\n",
       "    }\n",
       "</style>\n",
       "<table border=\"1\" class=\"dataframe\">\n",
       "  <thead>\n",
       "    <tr style=\"text-align: right;\">\n",
       "      <th></th>\n",
       "      <th>Company</th>\n",
       "      <th>Country of Origin</th>\n",
       "      <th>Model</th>\n",
       "      <th>Number of cc</th>\n",
       "      <th>Horsepower</th>\n",
       "      <th>Torque</th>\n",
       "      <th>Transmission Type</th>\n",
       "      <th>Drivetrain</th>\n",
       "      <th>Number of Seating</th>\n",
       "      <th>Price (in INR)</th>\n",
       "      <th>Year</th>\n",
       "      <th>Looks</th>\n",
       "      <th>Body Type</th>\n",
       "      <th>Engine Type</th>\n",
       "      <th>Number of Cylinders</th>\n",
       "    </tr>\n",
       "  </thead>\n",
       "  <tbody>\n",
       "    <tr>\n",
       "      <th>0</th>\n",
       "      <td>Aprilia</td>\n",
       "      <td>Italy</td>\n",
       "      <td>RS 660</td>\n",
       "      <td>659</td>\n",
       "      <td>100</td>\n",
       "      <td>67.0</td>\n",
       "      <td>6-speed quickshifter</td>\n",
       "      <td>Chain</td>\n",
       "      <td>2</td>\n",
       "      <td>1099000</td>\n",
       "      <td>2021</td>\n",
       "      <td>Sport</td>\n",
       "      <td>Naked</td>\n",
       "      <td>Parallel-twin</td>\n",
       "      <td>2</td>\n",
       "    </tr>\n",
       "    <tr>\n",
       "      <th>1</th>\n",
       "      <td>Aprilia</td>\n",
       "      <td>Italy</td>\n",
       "      <td>Tuono 660</td>\n",
       "      <td>659</td>\n",
       "      <td>100</td>\n",
       "      <td>67.0</td>\n",
       "      <td>6-speed quickshifter</td>\n",
       "      <td>Chain</td>\n",
       "      <td>2</td>\n",
       "      <td>1199000</td>\n",
       "      <td>2021</td>\n",
       "      <td>Sport</td>\n",
       "      <td>Naked</td>\n",
       "      <td>Parallel-twin</td>\n",
       "      <td>2</td>\n",
       "    </tr>\n",
       "    <tr>\n",
       "      <th>2</th>\n",
       "      <td>Aprilia</td>\n",
       "      <td>Italy</td>\n",
       "      <td>RS 125</td>\n",
       "      <td>124.9</td>\n",
       "      <td>15</td>\n",
       "      <td>12.0</td>\n",
       "      <td>6-speed manual</td>\n",
       "      <td>Chain</td>\n",
       "      <td>2</td>\n",
       "      <td>449000</td>\n",
       "      <td>2022</td>\n",
       "      <td>Sport</td>\n",
       "      <td>Racing</td>\n",
       "      <td>Single-cylinder</td>\n",
       "      <td>1</td>\n",
       "    </tr>\n",
       "    <tr>\n",
       "      <th>3</th>\n",
       "      <td>Aprilia</td>\n",
       "      <td>Italy</td>\n",
       "      <td>Shiver 900</td>\n",
       "      <td>896</td>\n",
       "      <td>95</td>\n",
       "      <td>90.0</td>\n",
       "      <td>6-speed manual</td>\n",
       "      <td>Shaft</td>\n",
       "      <td>2</td>\n",
       "      <td>1399000</td>\n",
       "      <td>2022</td>\n",
       "      <td>Adventure</td>\n",
       "      <td>Naked</td>\n",
       "      <td>V-twin</td>\n",
       "      <td>2</td>\n",
       "    </tr>\n",
       "    <tr>\n",
       "      <th>4</th>\n",
       "      <td>Aprilia</td>\n",
       "      <td>Italy</td>\n",
       "      <td>Tuono 1100</td>\n",
       "      <td>1077</td>\n",
       "      <td>175</td>\n",
       "      <td>121.0</td>\n",
       "      <td>6-speed manual</td>\n",
       "      <td>Shaft</td>\n",
       "      <td>2</td>\n",
       "      <td>1999000</td>\n",
       "      <td>2022</td>\n",
       "      <td>Adventure</td>\n",
       "      <td>Naked</td>\n",
       "      <td>V-twin</td>\n",
       "      <td>2</td>\n",
       "    </tr>\n",
       "  </tbody>\n",
       "</table>\n",
       "</div>"
      ],
      "text/plain": [
       "   Company Country of Origin       Model Number of cc  Horsepower  Torque  \\\n",
       "0  Aprilia             Italy      RS 660          659         100    67.0   \n",
       "1  Aprilia             Italy   Tuono 660          659         100    67.0   \n",
       "2  Aprilia             Italy      RS 125        124.9          15    12.0   \n",
       "3  Aprilia             Italy  Shiver 900          896          95    90.0   \n",
       "4  Aprilia             Italy  Tuono 1100         1077         175   121.0   \n",
       "\n",
       "      Transmission Type Drivetrain  Number of Seating  Price (in INR)  Year  \\\n",
       "0  6-speed quickshifter      Chain                  2         1099000  2021   \n",
       "1  6-speed quickshifter      Chain                  2         1199000  2021   \n",
       "2        6-speed manual      Chain                  2          449000  2022   \n",
       "3        6-speed manual      Shaft                  2         1399000  2022   \n",
       "4        6-speed manual      Shaft                  2         1999000  2022   \n",
       "\n",
       "       Looks Body Type      Engine Type Number of Cylinders  \n",
       "0      Sport     Naked    Parallel-twin                   2  \n",
       "1      Sport     Naked    Parallel-twin                   2  \n",
       "2      Sport    Racing  Single-cylinder                   1  \n",
       "3  Adventure     Naked           V-twin                   2  \n",
       "4  Adventure     Naked           V-twin                   2  "
      ]
     },
     "execution_count": 30,
     "metadata": {},
     "output_type": "execute_result"
    }
   ],
   "source": [
    "df.head()"
   ]
  },
  {
   "cell_type": "code",
   "execution_count": 40,
   "id": "ee247cdf",
   "metadata": {},
   "outputs": [
    {
     "data": {
      "image/png": "[encoded data removed]",
      "text/plain": [
       "<Figure size 500x500 with 1 Axes>"
      ]
     },
     "metadata": {},
     "output_type": "display_data"
    }
   ],
   "source": [
    "import pandas as pd\n",
    "import matplotlib.pyplot as plt\n",
    "\n",
    "# Mengonversi kolom \"Price\" menjadi numerik\n",
    "# df[\"Price (in INR)\"] = pd.to_numeric(df[\"Price (in INR)\"], errors=\"coerce\")\n",
    "\n",
    "# Membuat histogram\n",
    "df[[\"Price (in INR)\"]].hist(figsize=(5, 5), bins=7)\n",
    "plt.title(\"Harga Motor\")\n",
    "plt.xlabel(\"Harga\")\n",
    "plt.show()\n"
   ]
  },
  {
   "cell_type": "code",
   "execution_count": 42,
   "id": "b73ffc9e",
   "metadata": {},
   "outputs": [
    {
     "data": {
      "image/png": "[encoded data removed]",
      "text/plain": [
       "<Figure size 640x480 with 1 Axes>"
      ]
     },
     "metadata": {},
     "output_type": "display_data"
    }
   ],
   "source": [
    "Price = df['Price (in INR)']\n",
    "plt.hist(Price, label='Price (in INR)')\n",
    "plt.show()"
   ]
  },
  {
   "cell_type": "code",
   "execution_count": 44,
   "id": "67c510c2",
   "metadata": {},
   "outputs": [
    {
     "data": {
      "image/png": "[encoded data removed]",
      "text/plain": [
       "<Figure size 1000x1000 with 1 Axes>"
      ]
     },
     "metadata": {},
     "output_type": "display_data"
    }
   ],
   "source": [
    "#Membuat Line graph\n",
    "plt.figure(figsize=(10, 10))\n",
    "plt.plot(df['Number of cc'],df['Price (in INR)'])\n",
    "plt.title('Grafik Harga Motor', fontweight='bold',fontsize=18)\n",
    "plt.xlabel('CC Motor')\n",
    "plt.ylabel('Harga Motor')\n",
    "plt.xticks(rotation = 45,fontsize=10)\n",
    "plt.xticks([0, 100,200,300,400,500,600,700,775])\n",
    "plt.show()"
   ]
  },
  {
   "cell_type": "code",
   "execution_count": null,
   "id": "61a3f8d9",
   "metadata": {},
   "outputs": [],
   "source": []
  }
 ],
 "metadata": {
  "kernelspec": {
   "display_name": "Python 3 (ipykernel)",
   "language": "python",
   "name": "python3"
  },
  "language_info": {
   "codemirror_mode": {
    "name": "ipython",
    "version": 3
   },
   "file_extension": ".py",
   "mimetype": "text/x-python",
   "name": "python",
   "nbconvert_exporter": "python",
   "pygments_lexer": "ipython3",
   "version": "3.10.9"
  }
 },
 "nbformat": 4,
 "nbformat_minor": 5
}
